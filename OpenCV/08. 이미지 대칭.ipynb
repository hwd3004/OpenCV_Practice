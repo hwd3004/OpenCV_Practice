{
 "cells": [
  {
   "cell_type": "markdown",
   "id": "b86e5e64",
   "metadata": {},
   "source": [
    "### 8. 이미지 대칭"
   ]
  },
  {
   "cell_type": "markdown",
   "id": "c9ba465d",
   "metadata": {},
   "source": [
    "좌우 대칭"
   ]
  },
  {
   "cell_type": "code",
   "execution_count": 4,
   "id": "fbfdab93",
   "metadata": {},
   "outputs": [],
   "source": [
    "import cv2\n",
    "img = cv2.imread('img.jpg')\n",
    "\n",
    "flip_horizontal = cv2.flip(img, 1) # flipCode > 0 : 좌우 대칭\n",
    "\n",
    "cv2.imshow('img', img)\n",
    "cv2.imshow('flip_horizontal', flip_horizontal)\n",
    "cv2.waitKey(0)\n",
    "cv2.destroyAllWindows()"
   ]
  },
  {
   "cell_type": "markdown",
   "id": "bad5729e",
   "metadata": {},
   "source": [
    "상하 대칭"
   ]
  },
  {
   "cell_type": "code",
   "execution_count": 5,
   "id": "c8bb343a",
   "metadata": {},
   "outputs": [],
   "source": [
    "import cv2\n",
    "img = cv2.imread('img.jpg')\n",
    "\n",
    "flip_vertical = cv2.flip(img, 0) # flipCode == 0 : 상하 대칭 vertical\n",
    "\n",
    "cv2.imshow('img', img)\n",
    "cv2.imshow('flip_vertical', flip_vertical)\n",
    "cv2.waitKey(0)\n",
    "cv2.destroyAllWindows()"
   ]
  },
  {
   "cell_type": "markdown",
   "id": "dbf0fc32",
   "metadata": {},
   "source": [
    "상하좌우 대칭"
   ]
  },
  {
   "cell_type": "code",
   "execution_count": 6,
   "id": "d29f8b09",
   "metadata": {},
   "outputs": [],
   "source": [
    "import cv2\n",
    "img = cv2.imread('img.jpg')\n",
    "\n",
    "flip_both = cv2.flip(img, -1) # flipCode < 0 : 상하좌우 대칭\n",
    "\n",
    "cv2.imshow('img', img)\n",
    "cv2.imshow('flip_both', flip_both)\n",
    "cv2.waitKey(0)\n",
    "cv2.destroyAllWindows()"
   ]
  },
  {
   "cell_type": "code",
   "execution_count": null,
   "id": "6e0038e1",
   "metadata": {},
   "outputs": [],
   "source": []
  }
 ],
 "metadata": {
  "kernelspec": {
   "display_name": "Python 3 (ipykernel)",
   "language": "python",
   "name": "python3"
  },
  "language_info": {
   "codemirror_mode": {
    "name": "ipython",
    "version": 3
   },
   "file_extension": ".py",
   "mimetype": "text/x-python",
   "name": "python",
   "nbconvert_exporter": "python",
   "pygments_lexer": "ipython3",
   "version": "3.9.7"
  }
 },
 "nbformat": 4,
 "nbformat_minor": 5
}
