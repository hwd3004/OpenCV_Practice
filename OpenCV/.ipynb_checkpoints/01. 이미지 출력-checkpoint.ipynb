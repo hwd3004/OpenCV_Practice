{
 "cells": [
  {
   "cell_type": "markdown",
   "id": "2cf49e2d",
   "metadata": {},
   "source": [
    "### 환경설정\n",
    "\n",
    "Anaconda Prompt 실행\n",
    "\n",
    "pip install opencv-python"
   ]
  },
  {
   "cell_type": "code",
   "execution_count": 1,
   "id": "17fb91d3",
   "metadata": {},
   "outputs": [
    {
     "data": {
      "text/plain": [
       "'4.5.5'"
      ]
     },
     "execution_count": 1,
     "metadata": {},
     "output_type": "execute_result"
    }
   ],
   "source": [
    "import cv2\n",
    "cv2.__version__"
   ]
  },
  {
   "cell_type": "markdown",
   "id": "476a12d9",
   "metadata": {},
   "source": [
    "### OpenCV (Computer Vision)\n",
    "\n",
    "다양한 이미지, 동영상 처리에 사용되는 오픈 소스 라이브러리"
   ]
  },
  {
   "cell_type": "markdown",
   "id": "b1db6531",
   "metadata": {},
   "source": [
    "프로젝트 경로\n",
    "\n",
    "C:\\Users\\사용자이름\\PythonImageWorkspace\\OpenCV"
   ]
  },
  {
   "cell_type": "code",
   "execution_count": 7,
   "id": "2534dbd0",
   "metadata": {},
   "outputs": [],
   "source": [
    "import cv2\n",
    "img = cv2.imread('./img.jpg') # 해당 경로의 파일 읽어오기\n",
    "cv2.imshow('IMG', img) # IMG라는 이름의 창을 띄우고, img를 띄우기\n",
    "cv2.waitKey(0) # 지정된 시간(ms) 동안 사용자 키 입력 대기\n",
    "# cv2.waitKey(5000) # 5초 후에 창 다음 명령을 실행\n",
    "cv2.destroyAllWindows() # 모든 창 닫기"
   ]
  },
  {
   "cell_type": "markdown",
   "id": "751138b8",
   "metadata": {},
   "source": [
    "### 읽기 옵션\n",
    "1. cv2.IMREAD_COLOR : 컬러 이밎, 투명 영역은 무시(기본값)\n",
    "1. cv2.IMREAD_GRAYSCALE : 흑백 이미지\n",
    "3. cv2.IMREAD_UNCHANGED : 투명 영역까지 포함"
   ]
  },
  {
   "cell_type": "code",
   "execution_count": 8,
   "id": "6d8f40a7",
   "metadata": {},
   "outputs": [],
   "source": [
    "import cv2\n",
    "img_color = cv2.imread('img.jpg', cv2.IMREAD_COLOR)\n",
    "img_gray = cv2.imread('img.jpg', cv2.IMREAD_GRAYSCALE)\n",
    "img_unchanged = cv2.imread('img.jpg', cv2.IMREAD_UNCHANGED)\n",
    "\n",
    "cv2.imshow('img_color', img_color)\n",
    "cv2.imshow('img_gray', img_gray)\n",
    "cv2.imshow('img_unchanged', img_unchanged)\n",
    "\n",
    "cv2.waitKey(0)\n",
    "cv2.destroyAllWindows()"
   ]
  },
  {
   "cell_type": "markdown",
   "id": "fbea64b8",
   "metadata": {},
   "source": [
    "### Shape\n",
    "이미지의 height, width, channel 정보"
   ]
  },
  {
   "cell_type": "code",
   "execution_count": 9,
   "id": "17477720",
   "metadata": {},
   "outputs": [
    {
     "data": {
      "text/plain": [
       "(390, 640, 3)"
      ]
     },
     "execution_count": 9,
     "metadata": {},
     "output_type": "execute_result"
    }
   ],
   "source": [
    "import cv2\n",
    "img = cv2.imread('img.jpg')\n",
    "img.shape # 세로,가로, channel (3은 rgb를 의미)"
   ]
  }
 ],
 "metadata": {
  "kernelspec": {
   "display_name": "Python 3 (ipykernel)",
   "language": "python",
   "name": "python3"
  },
  "language_info": {
   "codemirror_mode": {
    "name": "ipython",
    "version": 3
   },
   "file_extension": ".py",
   "mimetype": "text/x-python",
   "name": "python",
   "nbconvert_exporter": "python",
   "pygments_lexer": "ipython3",
   "version": "3.9.7"
  }
 },
 "nbformat": 4,
 "nbformat_minor": 5
}
