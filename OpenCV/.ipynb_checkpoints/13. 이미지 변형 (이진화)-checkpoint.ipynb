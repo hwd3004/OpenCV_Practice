{
 "cells": [
  {
   "cell_type": "markdown",
   "id": "59172f96",
   "metadata": {},
   "source": [
    "### 13. 이미지 변형 (이진화)\n",
    "\n",
    "https://youtu.be/XK3eU9egll8?t=11077 - Threshhold (임계값)에 대한 설명"
   ]
  },
  {
   "cell_type": "code",
   "execution_count": 6,
   "id": "ba10ee35",
   "metadata": {},
   "outputs": [],
   "source": [
    "import cv2\n",
    "\n",
    "img = cv2.imread('book.jpg', cv2.IMREAD_GRAYSCALE)\n",
    "\n",
    "ret, binary = cv2.threshold(img, 127, 255, cv2.THRESH_BINARY)\n",
    "\n",
    "cv2.imshow('img', img)\n",
    "cv2.imshow('binary', binary)\n",
    "cv2.waitKey(0)\n",
    "cv2.destroyAllWindows()"
   ]
  },
  {
   "cell_type": "markdown",
   "id": "24a4eaab",
   "metadata": {},
   "source": [
    "### Trackbar (값 변화에 따른 변형 확인)"
   ]
  },
  {
   "cell_type": "code",
   "execution_count": 4,
   "id": "7958b851",
   "metadata": {},
   "outputs": [],
   "source": [
    "import cv2\n",
    "\n",
    "def empty(pos):\n",
    "#     print(pos)\n",
    "    pass\n",
    "\n",
    "img = cv2.imread('book.jpg', cv2.IMREAD_GRAYSCALE)\n",
    "\n",
    "name = 'Trackbar'\n",
    "cv2.namedWindow(name)\n",
    "\n",
    "cv2.createTrackbar('threshold', name, 127, 255, empty) # bar 이름, 창의 이름, 초기값, 최대값, 이벤트 처리\n",
    "\n",
    "while True:\n",
    "    thresh = cv2.getTrackbarPos('threshold', name) # bar 이름, 창의 이름\n",
    "    ret, binary = cv2.threshold(img, thresh, 255, cv2.THRESH_BINARY)\n",
    "    \n",
    "    if not ret:\n",
    "        break\n",
    "        \n",
    "    cv2.imshow(name, binary)\n",
    "    \n",
    "    if cv2.waitKey(1) == ord('q'):\n",
    "        break\n",
    "        \n",
    "cv2.destroyAllWindows()"
   ]
  },
  {
   "cell_type": "code",
   "execution_count": 6,
   "id": "3838d91c",
   "metadata": {},
   "outputs": [],
   "source": [
    "import cv2\n",
    "\n",
    "img = cv2.imread('book.jpg', cv2.IMREAD_GRAYSCALE)\n",
    "\n",
    "ret, binary1 = cv2.threshold(img, 0, 255, cv2.THRESH_BINARY)\n",
    "ret, binary2 = cv2.threshold(img, 127, 255, cv2.THRESH_BINARY)\n",
    "ret, binary3 = cv2.threshold(img, 195, 255, cv2.THRESH_BINARY)\n",
    "\n",
    "cv2.imshow('img', img)\n",
    "cv2.imshow('binary1', binary1)\n",
    "cv2.imshow('binary2', binary2)\n",
    "cv2.imshow('binary3', binary3)\n",
    "cv2.waitKey(0)\n",
    "cv2.destroyAllWindows()"
   ]
  },
  {
   "cell_type": "code",
   "execution_count": null,
   "id": "a92485f6",
   "metadata": {},
   "outputs": [],
   "source": [
    "# https://youtu.be/XK3eU9egll8"
   ]
  }
 ],
 "metadata": {
  "kernelspec": {
   "display_name": "Python 3 (ipykernel)",
   "language": "python",
   "name": "python3"
  },
  "language_info": {
   "codemirror_mode": {
    "name": "ipython",
    "version": 3
   },
   "file_extension": ".py",
   "mimetype": "text/x-python",
   "name": "python",
   "nbconvert_exporter": "python",
   "pygments_lexer": "ipython3",
   "version": "3.9.7"
  }
 },
 "nbformat": 4,
 "nbformat_minor": 5
}
